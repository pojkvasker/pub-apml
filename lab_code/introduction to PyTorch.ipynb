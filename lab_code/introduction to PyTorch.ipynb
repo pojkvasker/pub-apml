{
 "cells": [
  {
   "cell_type": "code",
   "execution_count": 1,
   "metadata": {
    "colab": {},
    "colab_type": "code",
    "id": "kaxOy2isb5xs"
   },
   "outputs": [],
   "source": [
    "%matplotlib inline"
   ]
  },
  {
   "cell_type": "markdown",
   "metadata": {
    "colab_type": "text",
    "id": "bKOoRFl3bMwG"
   },
   "source": [
    "# Basics of PyTorch\n",
    "\n",
    "We start by running some basic PyTorch commands to get acquainted with the library. This section is based on the [PyTorch example](https://pytorch.org/tutorials/beginner/pytorch_with_examples.html) in the official tutorials.\n",
    "\n",
    "Numpy is a generic Python library for scientific computing and allows to work with $n$-dimensional arrays."
   ]
  },
  {
   "cell_type": "code",
   "execution_count": 2,
   "metadata": {
    "colab": {
     "base_uri": "https://localhost:8080/",
     "height": 34
    },
    "colab_type": "code",
    "id": "5Qv1SDicbMwI",
    "outputId": "c8544ae8-85de-4c77-c5b0-8874465f2080"
   },
   "outputs": [
    {
     "data": {
      "text/plain": [
       "-7.568130054564479"
      ]
     },
     "execution_count": 2,
     "metadata": {},
     "output_type": "execute_result"
    }
   ],
   "source": [
    "# load numpy\n",
    "import numpy as np\n",
    "\n",
    "# create standard normally distributed vectors x and y\n",
    "x = np.random.randn(20)\n",
    "y = np.random.randn(20)\n",
    "\n",
    "# compute the standard inner product of x and y\n",
    "np.dot(x, y)"
   ]
  },
  {
   "cell_type": "markdown",
   "metadata": {
    "colab_type": "text",
    "id": "2Z5bRRG6bMwP"
   },
   "source": [
    "In principle, one can implement even neural network models using numpy. However, numpy has two severe limitations. When working with deep neural networks, often one wants to speed up the computations by running them on GPUs. Unfortunately, numpy does not support GPUs. Moreover, training of differentiable models such as neural networks requires to keep track of gradients. This functionality is not provided by numpy.\n",
    "\n",
    "The PyTorch library tries to solve both issues. Similar to numpy, it allows to work with $n$-dimensional arrays, which are called *tensors*."
   ]
  },
  {
   "cell_type": "code",
   "execution_count": 3,
   "metadata": {
    "colab": {
     "base_uri": "https://localhost:8080/",
     "height": 34
    },
    "colab_type": "code",
    "id": "dTsIolBDbMwQ",
    "outputId": "c9e7e877-e3a5-47d1-df10-6e31f651c23b"
   },
   "outputs": [
    {
     "data": {
      "text/plain": [
       "tensor(-0.0585)"
      ]
     },
     "execution_count": 3,
     "metadata": {},
     "output_type": "execute_result"
    }
   ],
   "source": [
    "# load PyTorch\n",
    "import torch\n",
    "\n",
    "# create standard normally distributed vectors x and y\n",
    "x = torch.randn(20)\n",
    "y = torch.randn(20)\n",
    "\n",
    "# compute the standard inner product of x and y\n",
    "torch.dot(x, y)"
   ]
  },
  {
   "cell_type": "markdown",
   "metadata": {
    "colab_type": "text",
    "id": "N8zXqQ-lbMwV"
   },
   "source": [
    "We can easily convert numpy arrays to PyTorch tensors:"
   ]
  },
  {
   "cell_type": "code",
   "execution_count": 4,
   "metadata": {
    "colab": {
     "base_uri": "https://localhost:8080/",
     "height": 69
    },
    "colab_type": "code",
    "id": "kc952VBIbMwX",
    "outputId": "85a8367d-b25b-4c0e-a6b4-04589104410f"
   },
   "outputs": [
    {
     "data": {
      "text/plain": [
       "tensor([-4.3712e-02, -4.8422e-03, -8.6694e-04,  9.7186e-01,  4.5362e-01,\n",
       "        -1.0183e+00,  5.1149e-01, -4.8364e-01,  1.4547e+00,  7.3612e-01,\n",
       "        -7.0584e-01,  1.0745e+00, -6.2493e-01,  1.7434e+00,  1.0850e+00,\n",
       "        -9.5819e-01, -4.7520e-01,  1.5969e+00,  1.7201e-01, -8.9857e-01],\n",
       "       dtype=torch.float64)"
      ]
     },
     "execution_count": 4,
     "metadata": {},
     "output_type": "execute_result"
    }
   ],
   "source": [
    "a = np.random.randn(20)\n",
    "torch.from_numpy(a)"
   ]
  },
  {
   "cell_type": "markdown",
   "metadata": {
    "colab_type": "text",
    "id": "GqQ9Fe7ct1sr"
   },
   "source": [
    "By default numpy uses 64 bit floating point numbers, which are preserved by the conversion to PyTorch tensors. However, floating point numbers in PyTorch are encoded with 32 bits by default. The standard floating point representation in PyTorch can be obtained by running"
   ]
  },
  {
   "cell_type": "code",
   "execution_count": 5,
   "metadata": {
    "colab": {
     "base_uri": "https://localhost:8080/",
     "height": 69
    },
    "colab_type": "code",
    "id": "VzZ-SjfvuHxn",
    "outputId": "9e8b2570-7499-4535-9aa2-09acdccae2b3"
   },
   "outputs": [
    {
     "data": {
      "text/plain": [
       "tensor([-4.3712e-02, -4.8422e-03, -8.6694e-04,  9.7186e-01,  4.5362e-01,\n",
       "        -1.0183e+00,  5.1149e-01, -4.8364e-01,  1.4547e+00,  7.3612e-01,\n",
       "        -7.0584e-01,  1.0745e+00, -6.2493e-01,  1.7434e+00,  1.0850e+00,\n",
       "        -9.5819e-01, -4.7520e-01,  1.5969e+00,  1.7201e-01, -8.9857e-01])"
      ]
     },
     "execution_count": 5,
     "metadata": {},
     "output_type": "execute_result"
    }
   ],
   "source": [
    "torch.from_numpy(a).float()"
   ]
  },
  {
   "cell_type": "markdown",
   "metadata": {
    "colab_type": "text",
    "id": "Ol8qvEV5bMwb"
   },
   "source": [
    "Similarly, PyTorch tensors can be converted to numpy arrays. Note that in this case an array with 32 bit floating point numbers is returned:"
   ]
  },
  {
   "cell_type": "code",
   "execution_count": 6,
   "metadata": {
    "colab": {
     "base_uri": "https://localhost:8080/",
     "height": 104
    },
    "colab_type": "code",
    "id": "3gS5yeKLbMwd",
    "outputId": "796085cb-e188-4b87-a0f2-f5e162971367"
   },
   "outputs": [
    {
     "data": {
      "text/plain": [
       "array([ 1.2265445 , -0.60907507,  1.0461144 , -0.84424084,  0.23840518,\n",
       "       -2.0347564 , -0.9209621 , -0.28542975, -0.30231187,  1.187504  ,\n",
       "        0.44606033, -0.8972076 , -0.03875303, -1.1903812 , -0.25750923,\n",
       "        1.919332  , -0.24634051, -0.16903096,  0.37356824,  0.46572158],\n",
       "      dtype=float32)"
      ]
     },
     "execution_count": 6,
     "metadata": {},
     "output_type": "execute_result"
    }
   ],
   "source": [
    "b = torch.randn(20)\n",
    "b.numpy()"
   ]
  },
  {
   "cell_type": "markdown",
   "metadata": {
    "colab_type": "text",
    "id": "CQDiZMgobMwj"
   },
   "source": [
    "An advantage of PyTorch over numpy is that we can utilize GPUs by moving our data and models to the GPU. Note that the following example is only executed if you have access to a GPU."
   ]
  },
  {
   "cell_type": "code",
   "execution_count": 7,
   "metadata": {
    "colab": {},
    "colab_type": "code",
    "id": "MptuL0OdbMwk"
   },
   "outputs": [],
   "source": [
    "if torch.cuda.is_available():\n",
    "    x = x.cuda()\n",
    "    y = y.cuda()\n",
    "    print(torch.dot(x, y))"
   ]
  },
  {
   "cell_type": "markdown",
   "metadata": {
    "colab_type": "text",
    "id": "wfYh85bPbMwo"
   },
   "source": [
    "In the same way, data and models can be moved back to the CPU."
   ]
  },
  {
   "cell_type": "code",
   "execution_count": 8,
   "metadata": {
    "colab": {},
    "colab_type": "code",
    "id": "4igwvkDIbMwq"
   },
   "outputs": [],
   "source": [
    "x = x.cpu()\n",
    "y = y.cpu()"
   ]
  },
  {
   "cell_type": "markdown",
   "metadata": {
    "colab_type": "text",
    "id": "0vl6ZqrrbMwu"
   },
   "source": [
    "If we do not want to check `torch.cuda.is_available()` repeatedly, we can also define a device on which we would like to perform our computations and move tensors to this device."
   ]
  },
  {
   "cell_type": "code",
   "execution_count": 9,
   "metadata": {
    "colab": {},
    "colab_type": "code",
    "id": "9IhmlX4HbMwv"
   },
   "outputs": [],
   "source": [
    "device = torch.device(\"cuda:0\" if torch.cuda.is_available() else \"cpu\")\n",
    "\n",
    "x = x.to(device)\n",
    "y = y.to(device)"
   ]
  },
  {
   "cell_type": "markdown",
   "metadata": {
    "colab_type": "text",
    "id": "IL2WxVqObMw0"
   },
   "source": [
    "As mentioned above, often differentiable models are trained by gradient descent. To perform gradient descent, we have to know the gradient of the objective function with respect to the model parameters. In neural networks, these gradients can be computed efficiently by using the [backpropagation algorithm](https://en.wikipedia.org/wiki/Backpropagation).\n",
    "\n",
    "During the forward pass in our model, PyTorch defines a *computational graph*, whose nodes are PyTorch tensors and whose edges are the functions mapping one input tensor to another output tensor. By backpropagating this graph, we obtain the desired gradients. \n",
    "\n",
    "More concretely, if `x` is a tensor with attribute `x.requires_grad = True` then `x.grad` will be another tensor holding the gradient of `x` with respect to some scalar value."
   ]
  },
  {
   "cell_type": "code",
   "execution_count": 10,
   "metadata": {
    "colab": {
     "base_uri": "https://localhost:8080/",
     "height": 86
    },
    "colab_type": "code",
    "id": "NGtyB-0FbMw2",
    "outputId": "4954259c-b091-4919-c9e4-605219875a42"
   },
   "outputs": [
    {
     "name": "stdout",
     "output_type": "stream",
     "text": [
      "Output of the forward pass: -0.7751935720443726\n",
      "Gradient information of x: tensor([1., 1., 1., 1., 1., 1., 1., 1., 1., 1., 1., 1., 1., 1., 1., 1., 1., 1.,\n",
      "        1., 1.])\n",
      "Gradient information of y: None\n"
     ]
    }
   ],
   "source": [
    "# state that we want to obtain the gradients of x\n",
    "x.requires_grad = True\n",
    "\n",
    "# run the forward pass and build the computational graph\n",
    "z = torch.sum(x - y)\n",
    "print(f\"Output of the forward pass: {z}\")\n",
    "\n",
    "# backpropagate the graph\n",
    "z.backward()\n",
    "\n",
    "print(f\"Gradient information of x: {x.grad}\")\n",
    "print(f\"Gradient information of y: {y.grad}\")"
   ]
  },
  {
   "cell_type": "markdown",
   "metadata": {
    "colab_type": "text",
    "id": "pIt_w1AMvHOx"
   },
   "source": [
    "By default, if we repeat our computations and backpropagate again, the gradients are accumulated."
   ]
  },
  {
   "cell_type": "code",
   "execution_count": 11,
   "metadata": {
    "colab": {
     "base_uri": "https://localhost:8080/",
     "height": 86
    },
    "colab_type": "code",
    "id": "c3cmFXm9vimy",
    "outputId": "81ed0cbb-d06d-4a31-aef9-f3ab86de914d"
   },
   "outputs": [
    {
     "name": "stdout",
     "output_type": "stream",
     "text": [
      "Output of the forward pass: -0.7751935720443726\n",
      "Gradient information of x: tensor([2., 2., 2., 2., 2., 2., 2., 2., 2., 2., 2., 2., 2., 2., 2., 2., 2., 2.,\n",
      "        2., 2.])\n",
      "Gradient information of y: None\n"
     ]
    }
   ],
   "source": [
    "# run the forward pass and build the computational graph\n",
    "z = torch.sum(x - y)\n",
    "print(f\"Output of the forward pass: {z}\")\n",
    "\n",
    "# backpropagate the graph\n",
    "z.backward()\n",
    "\n",
    "print(f\"Gradient information of x: {x.grad}\")\n",
    "print(f\"Gradient information of y: {y.grad}\")"
   ]
  },
  {
   "cell_type": "markdown",
   "metadata": {
    "colab_type": "text",
    "id": "0-B_Aa4QvofM"
   },
   "source": [
    "To override the gradients, we have to set them to zero before running the forward pass."
   ]
  },
  {
   "cell_type": "code",
   "execution_count": 12,
   "metadata": {
    "colab": {
     "base_uri": "https://localhost:8080/",
     "height": 86
    },
    "colab_type": "code",
    "id": "axPworlwvoI_",
    "outputId": "5059624a-2ff4-4437-ee5e-41b996bc2a27"
   },
   "outputs": [
    {
     "name": "stdout",
     "output_type": "stream",
     "text": [
      "Output of the forward pass: -0.7751935720443726\n",
      "Gradient information of x: tensor([1., 1., 1., 1., 1., 1., 1., 1., 1., 1., 1., 1., 1., 1., 1., 1., 1., 1.,\n",
      "        1., 1.])\n",
      "Gradient information of y: None\n"
     ]
    }
   ],
   "source": [
    "# set the gradient of x to zero\n",
    "x.grad.zero_()\n",
    "\n",
    "# run the forward pass and build the computational graph\n",
    "z = torch.sum(x - y)\n",
    "print(f\"Output of the forward pass: {z}\")\n",
    "\n",
    "# backpropagate the graph\n",
    "z.backward()\n",
    "\n",
    "print(f\"Gradient information of x: {x.grad}\")\n",
    "print(f\"Gradient information of y: {y.grad}\")"
   ]
  },
  {
   "cell_type": "markdown",
   "metadata": {
    "colab_type": "text",
    "id": "7TxyaB_NbMw6"
   },
   "source": [
    "If we want perform operations that should not be tracked by PyTorch, we can wrap them inside a `torch.no_grad()` clause."
   ]
  },
  {
   "cell_type": "code",
   "execution_count": 13,
   "metadata": {
    "colab": {
     "base_uri": "https://localhost:8080/",
     "height": 34
    },
    "colab_type": "code",
    "id": "KTL67owpbMw7",
    "outputId": "eccb6417-9bd0-47b8-bed0-d0a8f882ac7e"
   },
   "outputs": [
    {
     "name": "stdout",
     "output_type": "stream",
     "text": [
      "tensor(-0.7752)\n"
     ]
    }
   ],
   "source": [
    "with torch.no_grad():\n",
    "    print(torch.sum(x - y))"
   ]
  },
  {
   "cell_type": "markdown",
   "metadata": {
    "colab_type": "text",
    "id": "buOJk_X-bMxA"
   },
   "source": [
    "# Linear regression example\n",
    "\n",
    "Now we do something (slightly) more interesting. We consider linear regression using PyTorch. We study the model\n",
    "\\begin{equation*}\n",
    "    y = \\beta_0 + \\beta_1 x + \\epsilon,\n",
    "\\end{equation*}\n",
    "where $\\epsilon$ represents the noise term.\n",
    "\n",
    "We generate training data $\\{x_i, y_i\\}_{i=1}^N$ with $N = 100$ data points from the model with the true parameters $\\mathbf{\\beta} = \\begin{bmatrix} \\beta_0 & \\beta_1\\end{bmatrix}^\\intercal = \\begin{bmatrix} 0.3 & 0.1 \\end{bmatrix}^\\intercal$ and normally distributed noise $\\epsilon \u000f\\sim \\mathcal{N}(0, 0.01^2)$. The inputs $x_i$ are sampled uniformly from the interval $[0,1]$."
   ]
  },
  {
   "cell_type": "code",
   "execution_count": 14,
   "metadata": {
    "colab": {},
    "colab_type": "code",
    "id": "JD0sMA4zbMxB"
   },
   "outputs": [],
   "source": [
    "beta_true = [0.3, 0.1]\n",
    "N = 100\n",
    "\n",
    "np.random.seed(1234)\n",
    "xt = np.random.uniform(size=N)\n",
    "yt = beta_true[0] + beta_true[1] * xt + 0.01 * np.random.randn(N)"
   ]
  },
  {
   "cell_type": "markdown",
   "metadata": {
    "colab_type": "text",
    "id": "rUUhoKhwbMxG"
   },
   "source": [
    "We plot the data to see what it looks like."
   ]
  },
  {
   "cell_type": "code",
   "execution_count": 15,
   "metadata": {
    "colab": {
     "base_uri": "https://localhost:8080/",
     "height": 269
    },
    "colab_type": "code",
    "id": "OLRAfKcObMxH",
    "outputId": "f8a79848-f58c-4879-ec05-82cc899defa9"
   },
   "outputs": [
    {
     "data": {
      "image/png": "[encoded data removed]",
      "text/plain": [
       "<Figure size 432x288 with 1 Axes>"
      ]
     },
     "metadata": {},
     "output_type": "display_data"
    }
   ],
   "source": [
    "import matplotlib\n",
    "import matplotlib.pyplot as plt\n",
    "\n",
    "plt.scatter(xt, yt, label='data')\n",
    "plt.plot([0, 1], [beta_true[0], beta_true[0] + beta_true[1]], 'k--', label='true model')\n",
    "plt.legend()\n",
    "plt.show()"
   ]
  },
  {
   "cell_type": "markdown",
   "metadata": {
    "colab_type": "text",
    "id": "fIilymh9p4oK"
   },
   "source": [
    "We want to estimate the parameters $\\boldsymbol{\\beta} = \\begin{bmatrix} \\beta_0 & \\beta_1\\end{bmatrix}^\\intercal$ of the linear regression model based on the training data $\\{x_i,y_i\\}_{i=1}^N$. The training data statistics can be written as\n",
    "\\begin{equation*}\n",
    "  \\mathbf{y} = \\mathbf{X} \\boldsymbol{\\beta} + \\boldsymbol{\\epsilon}, \\qquad \\mathbf{y}= \\begin{bmatrix} y_1 \\\\ \\vdots \\\\ y_N \\end{bmatrix}, \\qquad \\mathbf{X} = \\begin{bmatrix} 1 & x_1 \\\\ \\vdots & \\vdots \\\\ 1 & x_N \\end{bmatrix}, \\qquad \\boldsymbol{\\beta} = \\begin{bmatrix} \\beta_0 \\\\ \\beta_1 \\end{bmatrix},\n",
    "\\end{equation*}\n",
    "where $\\boldsymbol{\\epsilon}$ is a vector with the noise realizations. This formulation also adheres to the common convention in PyTorch that expects data to be multi-dimensional with each row representing a data sample. Hence we even reshape the the vector of outputs to a matrix with one column by using `torch.view(-1, 1)`."
   ]
  },
  {
   "cell_type": "code",
   "execution_count": 16,
   "metadata": {
    "colab": {},
    "colab_type": "code",
    "id": "dJvA1fEQs8b_"
   },
   "outputs": [],
   "source": [
    "# build the data matrices\n",
    "X = torch.stack([torch.ones(N), torch.from_numpy(xt).float()], dim = 1)\n",
    "Y = torch.from_numpy(yt).float().view(-1, 1)"
   ]
  },
  {
   "cell_type": "markdown",
   "metadata": {
    "colab_type": "text",
    "id": "825xo6yKGzf1"
   },
   "source": [
    "We also need to create a tensor for $\\boldsymbol{\\beta}$, which will be updated iteratively during the learning process. We initialize it with the constant  matrix $\\boldsymbol{\\beta} = \\begin{bmatrix} 1 & 1 \\end{bmatrix}^\\intercal$ and specify that we want to obtain the gradient of the (not yet defined) loss with respect to $\\boldsymbol{\\beta}$ during backpropagation."
   ]
  },
  {
   "cell_type": "code",
   "execution_count": 17,
   "metadata": {
    "colab": {},
    "colab_type": "code",
    "id": "b4Y0q6iYHLuQ"
   },
   "outputs": [],
   "source": [
    "# define the initial model parameters\n",
    "beta = torch.ones(2, 1, requires_grad = True)"
   ]
  },
  {
   "cell_type": "markdown",
   "metadata": {
    "colab_type": "text",
    "id": "kIaUrrm6IAh_"
   },
   "source": [
    "We proceed by implementing the mean squared error cost function $J(\\boldsymbol{\\beta})$, where\n",
    "\\begin{equation*}\n",
    "J(\\boldsymbol{\\beta}) = \\frac{1}{N} \\sum_{i=1}^N {(\\beta_0 + \\beta_1 x_i − y_i)}^2 = \\frac{1}{n} {\\|\\mathbf{X} \\boldsymbol{\\beta} − \\mathbf{y} \\|}^2_2.\n",
    "\\end{equation*}\n",
    "We multiply the input $\\mathbf{X}$ with the variable $\\boldsymbol{\\beta}$ using `torch.mm` for matrix multiplication. We then subtract the corresponding outputs, take the square, and finally average over all data samples."
   ]
  },
  {
   "cell_type": "code",
   "execution_count": 18,
   "metadata": {
    "colab": {},
    "colab_type": "code",
    "id": "GL_kqJTtJfhS"
   },
   "outputs": [],
   "source": [
    "# evaluate the mean squared error for the current parameters\n",
    "loss = (X.mm(beta) - Y).pow(2).mean()"
   ]
  },
  {
   "cell_type": "markdown",
   "metadata": {
    "colab_type": "text",
    "id": "4sMWBSBBK-J6"
   },
   "source": [
    "We perform the optimization iteratively with gradient descent. This means that in every optimization step we update the parameter $\\boldsymbol{\\beta}$ by going in the opposite direction of the gradient of the cost function with a certain step length $\\gamma$, i.e., we compute $\\boldsymbol{\\beta} := \\boldsymbol{\\beta} - \\gamma \\nabla J(\\boldsymbol{\\beta})$. In this example we choose $\\gamma = 0.1$. In PyTorch the update step can be implemented as"
   ]
  },
  {
   "cell_type": "code",
   "execution_count": 19,
   "metadata": {
    "colab": {},
    "colab_type": "code",
    "id": "QGAsamm1LrF0"
   },
   "outputs": [],
   "source": [
    "# perform backpropagation\n",
    "loss.backward()\n",
    "\n",
    "# perform a gradient descent step\n",
    "with torch.no_grad():\n",
    "    beta -= 0.1 * beta.grad"
   ]
  },
  {
   "cell_type": "markdown",
   "metadata": {
    "colab_type": "text",
    "id": "LvcYU2ATbMxL"
   },
   "source": [
    "Before we continue with the next optimization step, we have to reset the gradient to zero.\n"
   ]
  },
  {
   "cell_type": "code",
   "execution_count": 20,
   "metadata": {
    "colab": {
     "base_uri": "https://localhost:8080/",
     "height": 52
    },
    "colab_type": "code",
    "id": "xJWXRL9HNIOE",
    "outputId": "490c6534-22c2-4220-d2f5-c0c26b1c3611"
   },
   "outputs": [
    {
     "data": {
      "text/plain": [
       "tensor([[0.],\n",
       "        [0.]])"
      ]
     },
     "execution_count": 20,
     "metadata": {},
     "output_type": "execute_result"
    }
   ],
   "source": [
    "# reset the gradient information\n",
    "beta.grad.zero_()"
   ]
  },
  {
   "cell_type": "markdown",
   "metadata": {
    "colab_type": "text",
    "id": "xGxdwMU9NEq3"
   },
   "source": [
    "The training step described above can now be repeated multiple times in a `for` loop. As an additional feature we create an illustration of the loss during the course of the optimization procedure. "
   ]
  },
  {
   "cell_type": "code",
   "execution_count": 21,
   "metadata": {
    "colab": {
     "base_uri": "https://localhost:8080/",
     "height": 474
    },
    "colab_type": "code",
    "id": "BPOPNi14bMxN",
    "outputId": "889f2098-4d64-4216-cbec-faf36c8399db"
   },
   "outputs": [
    {
     "name": "stdout",
     "output_type": "stream",
     "text": [
      "Epoch    1: training loss  1.422702\n",
      "Epoch  100: training loss  0.001226\n",
      "Epoch  200: training loss  0.000196\n",
      "Epoch  300: training loss  0.000102\n",
      "Epoch  400: training loss  0.000094\n",
      "Epoch  500: training loss  0.000093\n",
      "Epoch  600: training loss  0.000093\n",
      "Epoch  700: training loss  0.000093\n",
      "Epoch  800: training loss  0.000093\n",
      "Epoch  900: training loss  0.000093\n",
      "Epoch 1000: training loss  0.000093\n"
     ]
    },
    {
     "data": {
      "image/png": "[encoded data removed]",
      "text/plain": [
       "<Figure size 432x288 with 1 Axes>"
      ]
     },
     "metadata": {},
     "output_type": "display_data"
    }
   ],
   "source": [
    "# define the initial model parameters\n",
    "beta = torch.ones(2, 1, requires_grad = True)\n",
    "\n",
    "# track the training loss\n",
    "training_loss = []\n",
    "\n",
    "# in multiple iterations\n",
    "for i in range(1000):\n",
    "    # evaluate the mean squared error for the current parameters\n",
    "    loss = (X.mm(beta) - Y).pow(2).mean()\n",
    "    \n",
    "    # update the statistic and print loss\n",
    "    training_loss.append(loss.item())\n",
    "    if i == 0 or (i + 1) % 100 == 0:\n",
    "      print(f\"Epoch {i + 1:4d}: training loss {training_loss[-1]: 9.6f}\")\n",
    "    \n",
    "    # perform backpropagation\n",
    "    loss.backward()\n",
    "\n",
    "    # perform a gradient descent step\n",
    "    with torch.no_grad():\n",
    "        beta -= 0.1 * beta.grad\n",
    "        \n",
    "        # reset the gradient information\n",
    "        beta.grad.zero_()\n",
    "\n",
    "plt.figure()\n",
    "plt.plot(np.arange(1, len(training_loss) + 1), training_loss, 'o', label='training loss')\n",
    "plt.yscale('log')\n",
    "plt.xlabel('number of iterations')\n",
    "plt.legend()\n",
    "plt.show()"
   ]
  },
  {
   "cell_type": "markdown",
   "metadata": {
    "colab_type": "text",
    "id": "yMz5Nrg9bMxQ"
   },
   "source": [
    "We can check visually that the estimated model is actually close to the true model."
   ]
  },
  {
   "cell_type": "code",
   "execution_count": 22,
   "metadata": {
    "colab": {
     "base_uri": "https://localhost:8080/",
     "height": 269
    },
    "colab_type": "code",
    "id": "S6vJ5dw8bMxR",
    "outputId": "b43dc913-01ee-4e91-9aaa-a324f4b5c3e6"
   },
   "outputs": [
    {
     "data": {
      "image/png": "[encoded data removed]",
      "text/plain": [
       "<Figure size 432x288 with 1 Axes>"
      ]
     },
     "metadata": {},
     "output_type": "display_data"
    }
   ],
   "source": [
    "plt.scatter(xt, yt, label = 'data')\n",
    "plt.plot([0, 1], [beta_true[0], beta_true[0] + beta_true[1]], 'k--', label = 'true model')\n",
    "plt.plot([0, 1], [beta[0], beta[0] + beta[1]], 'r-', label = 'estimated model')\n",
    "plt.legend()\n",
    "plt.show()"
   ]
  },
  {
   "cell_type": "markdown",
   "metadata": {
    "colab_type": "text",
    "id": "yGZu48hnbMxV"
   },
   "source": [
    "The optimization of model parameters is a very common task in machine learning. PyTorch provides a [library of different optimization algorithms](https://pytorch.org/docs/stable/optim.html) which simplify this procedure, in particular for models with many parameters. The following code snippet defines an `optimizer` that can be used to optimize the parameters `beta` by regular gradient descent with a learning rate of `0.1`."
   ]
  },
  {
   "cell_type": "code",
   "execution_count": 23,
   "metadata": {
    "colab": {},
    "colab_type": "code",
    "id": "tj3VrUZK0M-E"
   },
   "outputs": [],
   "source": [
    "import torch.optim as optim\n",
    "\n",
    "# define the initial model parameters\n",
    "beta = torch.ones(2, 1, requires_grad = True)\n",
    "\n",
    "# define the optimizer\n",
    "optimizer = optim.SGD([beta], lr=0.1)"
   ]
  },
  {
   "cell_type": "markdown",
   "metadata": {
    "colab_type": "text",
    "id": "4EmGKUIl09VV"
   },
   "source": [
    "After we have computed the gradients for the model parameters that we want to optimize, `optimizer.step()` performs one gradient descent step. The gradients of all optimized parameters can be set to zero by running `optimizer.zero_grad()`.\n",
    "\n",
    "Taken together, the training of `beta` reduces to the following procedure."
   ]
  },
  {
   "cell_type": "code",
   "execution_count": 24,
   "metadata": {
    "colab": {
     "base_uri": "https://localhost:8080/",
     "height": 474
    },
    "colab_type": "code",
    "id": "y5Eqd5yAbMxW",
    "outputId": "9d9f7d58-be09-4572-b158-8b886044b6fb"
   },
   "outputs": [
    {
     "name": "stdout",
     "output_type": "stream",
     "text": [
      "Epoch    1: training loss  1.422702\n",
      "Epoch  100: training loss  0.001226\n",
      "Epoch  200: training loss  0.000196\n",
      "Epoch  300: training loss  0.000102\n",
      "Epoch  400: training loss  0.000094\n",
      "Epoch  500: training loss  0.000093\n",
      "Epoch  600: training loss  0.000093\n",
      "Epoch  700: training loss  0.000093\n",
      "Epoch  800: training loss  0.000093\n",
      "Epoch  900: training loss  0.000093\n",
      "Epoch 1000: training loss  0.000093\n"
     ]
    },
    {
     "data": {
      "image/png": "[encoded data removed]",
      "text/plain": [
       "<Figure size 432x288 with 1 Axes>"
      ]
     },
     "metadata": {},
     "output_type": "display_data"
    }
   ],
   "source": [
    "# define the initial model parameters\n",
    "beta = torch.ones(2, 1, requires_grad = True)\n",
    "\n",
    "# define the optimizer\n",
    "optimizer = optim.SGD([beta], lr=0.1)\n",
    "\n",
    "# track the training loss\n",
    "training_loss = []\n",
    "\n",
    "# in multiple iterations\n",
    "for i in range(1000):\n",
    "    # evaluate the mean squared error for the current parameters\n",
    "    loss = (X.mm(beta) - Y).pow(2).mean()\n",
    "    \n",
    "    # update the statistic and print loss\n",
    "    training_loss.append(loss.item())\n",
    "    if i == 0 or (i + 1) % 100 == 0:\n",
    "      print(f\"Epoch {i + 1:4d}: training loss {training_loss[-1]: 9.6f}\")\n",
    "    \n",
    "    # perform backpropagation\n",
    "    loss.backward()\n",
    "\n",
    "    # perform a gradient descent step\n",
    "    optimizer.step()\n",
    "\n",
    "    # reset the gradient information\n",
    "    optimizer.zero_grad()\n",
    "    \n",
    "plt.figure()\n",
    "plt.plot(np.arange(1, len(training_loss) + 1), training_loss, 'o', label='training loss')\n",
    "plt.yscale('log')\n",
    "plt.xlabel('number of iterations')\n",
    "plt.legend()\n",
    "plt.show()"
   ]
  },
  {
   "cell_type": "markdown",
   "metadata": {
    "colab_type": "text",
    "id": "Q2v09fjUbMxZ"
   },
   "source": [
    "Again we inspect our estimated model visually."
   ]
  },
  {
   "cell_type": "code",
   "execution_count": 25,
   "metadata": {
    "colab": {
     "base_uri": "https://localhost:8080/",
     "height": 269
    },
    "colab_type": "code",
    "id": "p8A-te2HbMxb",
    "outputId": "1b7a1a99-10ea-4998-f2a9-5a22205fca3d"
   },
   "outputs": [
    {
     "data": {
      "image/png": "[encoded data removed]",
      "text/plain": [
       "<Figure size 432x288 with 1 Axes>"
      ]
     },
     "metadata": {},
     "output_type": "display_data"
    }
   ],
   "source": [
    "plt.scatter(xt, yt, label = 'data')\n",
    "plt.plot([0, 1], [beta_true[0], beta_true[0] + beta_true[1]], 'k--', label = 'true model')\n",
    "plt.plot([0, 1], [beta[0], beta[0] + beta[1]], 'r-', label = 'estimated model')\n",
    "plt.legend()\n",
    "plt.show()"
   ]
  },
  {
   "cell_type": "markdown",
   "metadata": {
    "colab_type": "text",
    "id": "fnk7ZjTHbMxf"
   },
   "source": [
    "Our regression model can be viewed as a neural network with only one linear layer. PyTorch already provides a [model of linear transformations](https://pytorch.org/docs/stable/nn.html#torch.nn.Linear) that by default also includes a bias term. The following code creates such a linear transformation for one-dimensional inputs and outputs."
   ]
  },
  {
   "cell_type": "code",
   "execution_count": 26,
   "metadata": {
    "colab": {},
    "colab_type": "code",
    "id": "j98bKgrPVodY"
   },
   "outputs": [],
   "source": [
    "import torch.nn as nn\n",
    "\n",
    "# define an affine transformation\n",
    "affine = nn.Linear(1, 1)"
   ]
  },
  {
   "cell_type": "markdown",
   "metadata": {
    "colab_type": "text",
    "id": "83YDtvgrWVJQ"
   },
   "source": [
    "We can extract the internal parameters of the linear layer."
   ]
  },
  {
   "cell_type": "code",
   "execution_count": 27,
   "metadata": {
    "colab": {
     "base_uri": "https://localhost:8080/",
     "height": 69
    },
    "colab_type": "code",
    "id": "tz01iKJgXcWg",
    "outputId": "9a0b15ba-5456-4e9c-ccf9-19375666d5fd"
   },
   "outputs": [
    {
     "data": {
      "text/plain": [
       "[Parameter containing:\n",
       " tensor([[0.9035]], requires_grad=True), Parameter containing:\n",
       " tensor([0.1069], requires_grad=True)]"
      ]
     },
     "execution_count": 27,
     "metadata": {},
     "output_type": "execute_result"
    }
   ],
   "source": [
    "list(affine.parameters())"
   ]
  },
  {
   "cell_type": "markdown",
   "metadata": {
    "colab_type": "text",
    "id": "-C7abZucXxXp"
   },
   "source": [
    "We see that by default gradients will be computed with respect to these parameters during backpropagation. Note that the parameters are randomly initialized and not set to 1.\n",
    "\n",
    "We can make the correspondence to $\\beta_0$ and $\\beta_1$ a bit clearer."
   ]
  },
  {
   "cell_type": "code",
   "execution_count": 28,
   "metadata": {
    "colab": {
     "base_uri": "https://localhost:8080/",
     "height": 52
    },
    "colab_type": "code",
    "id": "lyEs7SBvWYuX",
    "outputId": "6032ebe4-185c-4bc5-aabd-0d90bdef5024"
   },
   "outputs": [
    {
     "name": "stdout",
     "output_type": "stream",
     "text": [
      "beta0: tensor([0.1069])\n",
      "beta1: tensor([[0.9035]])\n"
     ]
    }
   ],
   "source": [
    "beta0 = affine.bias.data\n",
    "beta1 = affine.weight.data\n",
    "print(f\"beta0: {beta0}\")\n",
    "print(f\"beta1: {beta1}\")"
   ]
  },
  {
   "cell_type": "markdown",
   "metadata": {
    "colab_type": "text",
    "id": "FO6Gw_4JW2cd"
   },
   "source": [
    "Conveniently, in contrast to our implementation above, PyTorch's linear layer does not require us to add a column of ones to our data matrix. Instead we can work with the given data directly, after converting it to a PyTorch tensor and reshaping it to a matrix with one column."
   ]
  },
  {
   "cell_type": "code",
   "execution_count": 29,
   "metadata": {
    "colab": {
     "base_uri": "https://localhost:8080/",
     "height": 1000
    },
    "colab_type": "code",
    "id": "khBO5mM-Y_I4",
    "outputId": "411db133-d655-4164-e965-7e36fbfe2bb2"
   },
   "outputs": [
    {
     "data": {
      "text/plain": [
       "tensor([[0.2799],\n",
       "        [0.6690],\n",
       "        [0.5024],\n",
       "        [0.8165],\n",
       "        [0.8116],\n",
       "        [0.3532],\n",
       "        [0.3567],\n",
       "        [0.8314],\n",
       "        [0.9726],\n",
       "        [0.8983],\n",
       "        [0.4302],\n",
       "        [0.5595],\n",
       "        [0.7244],\n",
       "        [0.7508],\n",
       "        [0.4414],\n",
       "        [0.6139],\n",
       "        [0.5614],\n",
       "        [0.1193],\n",
       "        [0.8052],\n",
       "        [0.9044],\n",
       "        [0.4366],\n",
       "        [0.6629],\n",
       "        [0.1750],\n",
       "        [0.4401],\n",
       "        [0.9500],\n",
       "        [0.6954],\n",
       "        [0.4658],\n",
       "        [0.8195],\n",
       "        [0.3932],\n",
       "        [0.6202],\n",
       "        [0.8922],\n",
       "        [0.5010],\n",
       "        [0.8316],\n",
       "        [0.2368],\n",
       "        [0.7432],\n",
       "        [0.7435],\n",
       "        [0.3046],\n",
       "        [0.9425],\n",
       "        [0.5064],\n",
       "        [0.9285],\n",
       "        [0.1609],\n",
       "        [0.2734],\n",
       "        [0.1497],\n",
       "        [0.7167],\n",
       "        [0.6441],\n",
       "        [0.5887],\n",
       "        [0.1460],\n",
       "        [0.6142],\n",
       "        [0.4047],\n",
       "        [0.5613],\n",
       "        [0.2080],\n",
       "        [0.6555],\n",
       "        [0.6182],\n",
       "        [0.1130],\n",
       "        [0.6648],\n",
       "        [0.9310],\n",
       "        [0.8211],\n",
       "        [1.0033],\n",
       "        [0.9732],\n",
       "        [0.8224],\n",
       "        [0.3646],\n",
       "        [0.6715],\n",
       "        [0.5389],\n",
       "        [0.2837],\n",
       "        [0.4523],\n",
       "        [0.1556],\n",
       "        [0.5150],\n",
       "        [0.9942],\n",
       "        [0.2189],\n",
       "        [0.2147],\n",
       "        [0.7742],\n",
       "        [0.6375],\n",
       "        [0.5330],\n",
       "        [0.2037],\n",
       "        [0.3140],\n",
       "        [0.9200],\n",
       "        [0.4834],\n",
       "        [0.5910],\n",
       "        [0.1125],\n",
       "        [0.3785],\n",
       "        [0.5016],\n",
       "        [0.6600],\n",
       "        [0.9365],\n",
       "        [0.6723],\n",
       "        [0.7448],\n",
       "        [0.2423],\n",
       "        [0.7810],\n",
       "        [0.8577],\n",
       "        [0.6795],\n",
       "        [0.5029],\n",
       "        [0.2447],\n",
       "        [0.6205],\n",
       "        [0.5841],\n",
       "        [0.9665],\n",
       "        [0.5409],\n",
       "        [0.5610],\n",
       "        [0.5920],\n",
       "        [0.8471],\n",
       "        [0.1585],\n",
       "        [0.7117]], grad_fn=<AddmmBackward>)"
      ]
     },
     "execution_count": 29,
     "metadata": {},
     "output_type": "execute_result"
    }
   ],
   "source": [
    "# build data matrix\n",
    "X = torch.from_numpy(xt).float().view(-1, 1)\n",
    "\n",
    "# apply the affine transformation to the data\n",
    "affine(X)"
   ]
  },
  {
   "cell_type": "markdown",
   "metadata": {
    "colab_type": "text",
    "id": "A4BKKgtdZX4P"
   },
   "source": [
    "We can rewrite the training procedure using this linear layer."
   ]
  },
  {
   "cell_type": "code",
   "execution_count": 44,
   "metadata": {
    "colab": {
     "base_uri": "https://localhost:8080/",
     "height": 474
    },
    "colab_type": "code",
    "id": "xzG4f7S3bMxg",
    "outputId": "94235761-070d-4065-e322-0fbf8cfccaf3"
   },
   "outputs": [
    {
     "name": "stdout",
     "output_type": "stream",
     "text": [
      "Epoch    1: training loss  2.747488\n",
      "Epoch  100: training loss  0.000103\n",
      "Epoch  200: training loss  0.000094\n",
      "Epoch  300: training loss  0.000093\n",
      "Epoch  400: training loss  0.000093\n",
      "Epoch  500: training loss  0.000093\n",
      "Epoch  600: training loss  0.000093\n",
      "Epoch  700: training loss  0.000093\n",
      "Epoch  800: training loss  0.000093\n",
      "Epoch  900: training loss  0.000093\n",
      "Epoch 1000: training loss  0.000093\n"
     ]
    },
    {
     "data": {
      "image/png": "[encoded data removed]",
      "text/plain": [
       "<Figure size 432x288 with 1 Axes>"
      ]
     },
     "metadata": {},
     "output_type": "display_data"
    }
   ],
   "source": [
    "# define the initial model parameters\n",
    "affine = nn.Linear(1, 1)\n",
    "\n",
    "# define the optimizer\n",
    "optimizer = optim.SGD(affine.parameters(), lr=0.1)\n",
    "\n",
    "# track the training loss\n",
    "training_loss = []\n",
    "\n",
    "# in multiple iterations\n",
    "for i in range(1000):\n",
    "    # evaluate the mean squared error for the current parameters\n",
    "    loss = (affine(X) - Y).pow(2).mean()\n",
    "        \n",
    "    # update the statistic and print loss\n",
    "    training_loss.append(loss.item())\n",
    "    if i == 0 or (i + 1) % 100 == 0:\n",
    "      print(f\"Epoch {i + 1:4d}: training loss {training_loss[-1]: 9.6f}\")\n",
    "    \n",
    "    # perform backpropagation\n",
    "    loss.backward()\n",
    "\n",
    "    # perform a gradient descent step\n",
    "    optimizer.step()\n",
    "\n",
    "    # reset the gradient information\n",
    "    optimizer.zero_grad()\n",
    "    \n",
    "plt.figure()\n",
    "plt.plot(np.arange(1, len(training_loss) + 1), training_loss, 'o', label='training loss')\n",
    "plt.yscale('log')\n",
    "plt.xlabel('number of iterations')\n",
    "plt.legend()\n",
    "plt.show()"
   ]
  },
  {
   "cell_type": "markdown",
   "metadata": {
    "colab_type": "text",
    "id": "SbBvep-SAHAu"
   },
   "source": [
    "Let us check again that we obtain a reasonably well-trained model."
   ]
  },
  {
   "cell_type": "code",
   "execution_count": 45,
   "metadata": {
    "colab": {
     "base_uri": "https://localhost:8080/",
     "height": 269
    },
    "colab_type": "code",
    "id": "qB3ujikOAPxn",
    "outputId": "f018bf0d-910c-4f76-d648-a196b6f27da1"
   },
   "outputs": [
    {
     "data": {
      "image/png": "[encoded data removed]",
      "text/plain": [
       "<Figure size 432x288 with 1 Axes>"
      ]
     },
     "metadata": {},
     "output_type": "display_data"
    }
   ],
   "source": [
    "# extract beta0 and beta1 from the linear layer\n",
    "beta0 = affine.bias.data\n",
    "beta1 = affine.weight.data\n",
    "\n",
    "plt.scatter(xt, yt, label = 'data')\n",
    "plt.plot([0, 1], [beta_true[0], beta_true[0] + beta_true[1]], 'k--', label = 'true model')\n",
    "plt.plot([0, 1], [beta0, beta0 + beta1], 'r-', label = 'estimated model')\n",
    "plt.legend()\n",
    "plt.show()"
   ]
  },
  {
   "cell_type": "markdown",
   "metadata": {
    "colab_type": "text",
    "id": "0TlmA6QeMM0g"
   },
   "source": [
    "Note that we have performed linear regression by iteratively minimizing the mean squared error cost function instead of using the closed form solution given by the normal equations. This numerical approach can be used also with other models and cost functions to find the parameters, also in problems where no closed form solution is available."
   ]
  },
  {
   "cell_type": "code",
   "execution_count": null,
   "metadata": {},
   "outputs": [],
   "source": []
  }
 ],
 "metadata": {
  "@webio": {
   "lastCommId": null,
   "lastKernelId": null
  },
  "colab": {
   "collapsed_sections": [],
   "name": "Introduction to PyTorch.ipynb",
   "provenance": []
  },
  "kernelspec": {
   "display_name": "Python 3",
   "language": "python",
   "name": "python3"
  },
  "language_info": {
   "codemirror_mode": {
    "name": "ipython",
    "version": 3
   },
   "file_extension": ".py",
   "mimetype": "text/x-python",
   "name": "python",
   "nbconvert_exporter": "python",
   "pygments_lexer": "ipython3",
   "version": "3.6.8"
  }
 },
 "nbformat": 4,
 "nbformat_minor": 1
}
