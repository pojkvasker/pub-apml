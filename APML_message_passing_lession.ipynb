{
 "cells": [
  {
   "cell_type": "code",
   "execution_count": 1,
   "metadata": {},
   "outputs": [
    {
     "name": "stdout",
     "output_type": "stream",
     "text": [
      "0.5641895835477563\n",
      "0.6816901138162093\n"
     ]
    }
   ],
   "source": [
    "import numpy as np\n",
    "import matplotlib .pyplot as plt\n",
    "from scipy.stats import truncnorm\n",
    "from scipy.stats import norm\n",
    "\n",
    "def mutiplyGauss (m1 ,s1 ,m2 ,s2):\n",
    "    s = 1/(1/ s1 +1/ s2)\n",
    "    m = (m1/s1+m2/s2)*s\n",
    "    return m, s\n",
    "\n",
    "def divideGauss (m1 ,s1 ,m2 ,s2):\n",
    "    m,s = mutiplyGauss (m1 ,s1 ,m2 ,-s2)\n",
    "    return m, s\n",
    "\n",
    "def truncGaussMM (my_a ,my_b ,m1 ,s1):\n",
    "    a, b = (my_a - m1) / np.sqrt(s1), (my_b - m1) / np.sqrt(s1)\n",
    "    m = truncnorm .mean(a, b, loc=m1 , scale=np.sqrt(s1))\n",
    "    s = truncnorm .var(a, b, loc=m1 , scale=np.sqrt(s1))\n",
    "    return m, s\n",
    "m0 = 0\n",
    "s0 = 1\n",
    "s = 1\n",
    "y0 = 1\n",
    "\n",
    "# Message from prior to node x\n",
    "mu_x_m = m0\n",
    "mu_x_s = s0\n",
    "\n",
    "# Message from node x to factor f_xt\n",
    "mu_x_xt_m = mu_x_m\n",
    "mu_x_xt_s = mu_x_s\n",
    "\n",
    "# Message from factor f_xt to node t\n",
    "mu_xt_t_m = mu_x_xt_m\n",
    "mu_xt_t_s = mu_x_xt_s + s\n",
    "\n",
    "# Do moment matching of the marginal of t\n",
    "if y0 ==1:\n",
    "    a, b = 0, 1000\n",
    "else:\n",
    "    a, b = -1000, 0\n",
    "pt_m , pt_s = truncGaussMM (a,b,mu_xt_t_m , mu_xt_t_s )\n",
    "\n",
    "# Compute the updated message from f_yt to t\n",
    "mu_yt_t_m , mu_yt_t_s = divideGauss (pt_m ,pt_s ,mu_xt_t_m , mu_xt_t_s )\n",
    "\n",
    "# Compute the message from t to f_tx\n",
    "mu_t_xt_m = mu_yt_t_m\n",
    "mu_t_xt_s = mu_yt_t_s\n",
    "\n",
    "# Compute the message from f_tx to x\n",
    "mu_xt_x_m = mu_t_xt_m\n",
    "mu_xt_x_s = mu_t_xt_s + s\n",
    "\n",
    "# Compute the marginal of x\n",
    "px_m , px_s = mutiplyGauss (mu_x_m ,mu_x_s ,mu_xt_x_m , mu_xt_x_s )\n",
    "\n",
    "print(px_m) # Output: 0.564189583548\n",
    "print(px_s) # Output: 0.681690113816"
   ]
  }
 ],
 "metadata": {
  "kernelspec": {
   "display_name": "Python 3",
   "language": "python",
   "name": "python3"
  },
  "language_info": {
   "codemirror_mode": {
    "name": "ipython",
    "version": 3
   },
   "file_extension": ".py",
   "mimetype": "text/x-python",
   "name": "python",
   "nbconvert_exporter": "python",
   "pygments_lexer": "ipython3",
   "version": "3.6.8"
  }
 },
 "nbformat": 4,
 "nbformat_minor": 2
}
